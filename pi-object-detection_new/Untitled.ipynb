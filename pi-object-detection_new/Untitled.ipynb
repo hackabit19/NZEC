{
 "cells": [
  {
   "cell_type": "code",
   "execution_count": 5,
   "metadata": {},
   "outputs": [
    {
     "ename": "IndentationError",
     "evalue": "unindent does not match any outer indentation level (<ipython-input-5-61214d78c9cb>, line 38)",
     "output_type": "error",
     "traceback": [
      "\u001b[0;36m  File \u001b[0;32m\"<ipython-input-5-61214d78c9cb>\"\u001b[0;36m, line \u001b[0;32m38\u001b[0m\n\u001b[0;31m    img = base64.b64decode(fra)\u001b[0m\n\u001b[0m                               ^\u001b[0m\n\u001b[0;31mIndentationError\u001b[0m\u001b[0;31m:\u001b[0m unindent does not match any outer indentation level\n"
     ]
    }
   ],
   "source": [
    "from imutils.video import VideoStream\n",
    "from imutils.video import FPS\n",
    "import numpy as np\n",
    "import argparse\n",
    "import imutils\n",
    "import time\n",
    "import cv2\n",
    "import base64\n",
    "import zmq\n",
    "\n",
    "# construct the argument parse and parse the arguments\n",
    "ap = argparse.ArgumentParser()\n",
    "ap.add_argument(\"-p\", \"--prototxt\", required=True,help=\"path to Caffe 'deploy' prototxt file\")\n",
    "ap.add_argument(\"-m\", \"--model\", required=True,help=\"path to Caffe pre-trained model\")\n",
    "ap.add_argument(\"-c\", \"--confidence\", type=float, default=0.2,help=\"minimum probability to filter weak detections\")\n",
    "args = vars(ap.parse_args())\n",
    "\n",
    "# initialize the list of class labels MobileNet SSD was trained to\n",
    "# detect, then generate a set of bounding box colors for each class\n",
    "CLASSES = [\"background\", \"aeroplane\", \"bicycle\", \"bird\", \"boat\",\"bottle\", \"bus\", \"car\", \"cat\", \"chair\", \"cow\", \"diningtable\",\n",
    "\t\"dog\", \"horse\", \"motorbike\", \"person\", \"pottedplant\", \"sheep\",\"sofa\", \"train\", \"tvmonitor\"]\n",
    "COLORS = np.random.uniform(0, 255, size=(len(CLASSES), 3))\n",
    "\n",
    "# load our serialized model from disk\n",
    "print(\"[INFO] loading model...\")\n",
    "net = cv2.dnn.readNetFromCaffe(args[\"prototxt\"], args[\"model\"])\n",
    "\n",
    "print(\"[INFO] starting video stream...\")\n",
    "# vs = VideoStream(usePiCamera=True).start()\n",
    "context = zmq.Context()\n",
    "footage_socket = context.socket(zmq.SUB)\n",
    "footage_socket.bind('tcp://*:5555')\n",
    "footage_socket.setsockopt_string(zmq.SUBSCRIBE, np.unicode(''))\n",
    "\n",
    "# loop over the frames from the video stream\n",
    "while (True):\n",
    "\t fra = footage_socket.recv_string()\n",
    "     img = base64.b64decode(fra)\n",
    "     npimg = np.fromstring(img, dtype=np.uint8)\n",
    "     source = cv2.imdecode(npimg, 1)\n",
    "\t frame = source\n",
    "\t frame = cv2.resize(frame, width=400)\n",
    "\t# grab the frame dimensions and convert it to a blob\n",
    "\t (h, w) = frame.shape[:2]\n",
    "\t blob = cv2.dnn.blobFromImage(cv2.resize(frame, (300, 300)),0.007843, (300, 300), 127.5)\n",
    "\t# pass the blob through the network and obtain the detections and\n",
    "\t# predictions\n",
    "\t net.setInput(blob)\n",
    "\t detections = net.forward()\n",
    "\t# loop over the detections\n",
    "\t for i in np.arange(0, detections.shape[2]):\n",
    "\t\t# extract the confidence (i.e., probability) associated with\n",
    "\t\t# the prediction\n",
    "\t\tconfidence = detections[0, 0, i, 2]\n",
    "\n",
    "\t\t# filter out weak detections by ensuring the `confidence` is\n",
    "\t\t# greater than the minimum confidence\n",
    "\t\tif confidence > args[\"confidence\"]:\n",
    "\t\t\t# extract the index of the class label from the\n",
    "\t\t\t# `detections`, then compute the (x, y)-coordinates of\n",
    "\t\t\t# the bounding box for the object\n",
    "\t\t\tidx = int(detections[0, 0, i, 1])\n",
    "\t\t\tbox = detections[0, 0, i, 3:7] * np.array([w, h, w, h])\n",
    "\t\t\t(startX, startY, endX, endY) = box.astype(\"int\")\n",
    "\n",
    "\t\t\t# draw the prediction on the frame\n",
    "\t\t\tlabel = \"{}: {:.2f}%\".format(CLASSES[idx],confidence * 100)\n",
    "\t\t\tcv2.rectangle(frame, (startX, startY), (endX, endY),COLORS[idx], 2)\n",
    "\t\t\ty = startY - 15 if startY - 15 > 15 else startY + 15\n",
    "\t\t\tcv2.putText(frame, label, (startX, y),cv2.FONT_HERSHEY_SIMPLEX, 0.5, COLORS[idx], 2)\n",
    "\t# show the output frame\n",
    "\t cv2.imshow(\"Frame\", frame)\n",
    "\t key = cv2.waitKey(1) & 0xFF\n",
    "\t# if the `q` key was pressed, break from the loop\n",
    "\t if key == ord(\"q\"):\n",
    "\t\tbreak\n",
    "# do a bit of cleanup\n",
    "cv2.destroyAllWindows()\n",
    "vs.stop()"
   ]
  },
  {
   "cell_type": "code",
   "execution_count": null,
   "metadata": {},
   "outputs": [],
   "source": []
  }
 ],
 "metadata": {
  "kernelspec": {
   "display_name": "Python 3",
   "language": "python",
   "name": "python3"
  },
  "language_info": {
   "codemirror_mode": {
    "name": "ipython",
    "version": 3
   },
   "file_extension": ".py",
   "mimetype": "text/x-python",
   "name": "python",
   "nbconvert_exporter": "python",
   "pygments_lexer": "ipython3",
   "version": "3.6.6"
  }
 },
 "nbformat": 4,
 "nbformat_minor": 2
}
